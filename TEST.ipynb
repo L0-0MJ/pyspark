{
 "cells": [
  {
   "cell_type": "markdown",
   "id": "2ba76dba-7ca6-40b3-ab8d-ef682733eaaf",
   "metadata": {},
   "source": [
    "TEST"
   ]
  },
  {
   "cell_type": "code",
   "execution_count": 4,
   "id": "0995b521-1e5c-47a1-95d8-1923506b9f8f",
   "metadata": {},
   "outputs": [],
   "source": [
    "#from pyspark import SparkConf, SparkContext"
   ]
  },
  {
   "cell_type": "code",
   "execution_count": 6,
   "id": "42a02f12-7643-4cab-b281-7bde8126b475",
   "metadata": {},
   "outputs": [],
   "source": [
    "#conf = SparkConf().setMaster(\"local\").setAppName(\"My APP\")\n",
    "#sc = SparkContext(conf = conf)"
   ]
  },
  {
   "cell_type": "code",
   "execution_count": 8,
   "id": "c2679c76-ad22-4964-a8ad-e3fd14d6deb3",
   "metadata": {},
   "outputs": [],
   "source": [
    "#lines = sc.textFile(\"README.md\") #lines 라는 RDD 만듦"
   ]
  },
  {
   "cell_type": "code",
   "execution_count": null,
   "id": "d56d1d31-b7c8-48f5-a501-cc2ff0466172",
   "metadata": {},
   "outputs": [],
   "source": []
  },
  {
   "cell_type": "code",
   "execution_count": 1,
   "id": "d3db42d6-5226-4a07-8ff6-935727cf6d8f",
   "metadata": {},
   "outputs": [],
   "source": [
    "import pyspark\n"
   ]
  },
  {
   "cell_type": "code",
   "execution_count": 2,
   "id": "98607ca6-3d26-43d4-8b19-9ef1792db51c",
   "metadata": {},
   "outputs": [],
   "source": [
    "test_file = \"file:///home/jovyan/work/sample/word1.txt\""
   ]
  },
  {
   "cell_type": "code",
   "execution_count": 3,
   "id": "380903aa-b733-484e-8e53-d9345fbfb4ca",
   "metadata": {},
   "outputs": [],
   "source": [
    "sc = pyspark.SparkContext('local[*]')"
   ]
  },
  {
   "cell_type": "code",
   "execution_count": 4,
   "id": "3da41bd3-fab3-4955-96dd-bd59ee2123a7",
   "metadata": {},
   "outputs": [],
   "source": [
    "text_file = sc.textFile(test_file)"
   ]
  },
  {
   "cell_type": "code",
   "execution_count": 19,
   "id": "04a8630d-7dc3-49c2-8829-528a7ef375b2",
   "metadata": {},
   "outputs": [],
   "source": [
    "counts = text_file.flatMap(lambda line: line.split(\" \"))"
   ]
  },
  {
   "cell_type": "code",
   "execution_count": 8,
   "id": "b13cd49f-0b0c-4cc5-b095-e53a6d827dc6",
   "metadata": {},
   "outputs": [],
   "source": [
    "counts = text_file.flatMap(lambda line: line.split(\" \")).map(lambda word: (word, 1))"
   ]
  },
  {
   "cell_type": "code",
   "execution_count": 10,
   "id": "5fa876d2-eeb6-437b-be1d-fad96601b6e2",
   "metadata": {},
   "outputs": [],
   "source": [
    "counts = text_file.flatMap(lambda line: line.split(\" \")).map(lambda word: (word, 1)).reduceByKey(lambda a, b: a+b)"
   ]
  },
  {
   "cell_type": "code",
   "execution_count": 6,
   "id": "3aa5c99d-2e34-4843-8bb8-699d7931a1cf",
   "metadata": {},
   "outputs": [
    {
     "data": {
      "text/plain": [
       "PythonRDD[2] at RDD at PythonRDD.scala:53"
      ]
     },
     "execution_count": 6,
     "metadata": {},
     "output_type": "execute_result"
    }
   ],
   "source": [
    "counts"
   ]
  },
  {
   "cell_type": "code",
   "execution_count": 20,
   "id": "385b7f24-cd4a-43e5-b160-137b71f1e8b7",
   "metadata": {},
   "outputs": [
    {
     "name": "stdout",
     "output_type": "stream",
     "text": [
      "['hello', 'world', 'hello', 'world', 'hello', 'world', 'hello', 'world', 'hello', 'world', 'hello', 'world']\n"
     ]
    }
   ],
   "source": [
    "print(counts.collect())"
   ]
  },
  {
   "cell_type": "code",
   "execution_count": null,
   "id": "035bb4f7-8ed6-4d50-a497-5a66e61b4f9d",
   "metadata": {},
   "outputs": [],
   "source": []
  },
  {
   "cell_type": "code",
   "execution_count": 13,
   "id": "7dac2810-f16a-4e8c-aa3e-6ed57b475dd1",
   "metadata": {},
   "outputs": [],
   "source": [
    "test_file2 = \"file:///home/jovyan/work/sample/grade.txt\"\n",
    "sc = pyspark.SparkContext.getOrCreate()"
   ]
  },
  {
   "cell_type": "code",
   "execution_count": 14,
   "id": "26ee8e85-b985-4f40-832c-babf6835da7f",
   "metadata": {},
   "outputs": [],
   "source": [
    "text_file2 = sc.textFile(test_file2)"
   ]
  },
  {
   "cell_type": "code",
   "execution_count": 28,
   "id": "2154ffad-d33c-444f-83e7-5020abf27f1f",
   "metadata": {},
   "outputs": [],
   "source": [
    "grade = text_file2.map(lambda line: line.split(\" \")[1])"
   ]
  },
  {
   "cell_type": "code",
   "execution_count": 29,
   "id": "1760bc59-2bcd-47db-bd8d-ef855045ecf8",
   "metadata": {},
   "outputs": [
    {
     "name": "stdout",
     "output_type": "stream",
     "text": [
      "['70', '80', '100', '90', '90']\n"
     ]
    }
   ],
   "source": [
    "print(grade.collect())"
   ]
  },
  {
   "cell_type": "code",
   "execution_count": 30,
   "id": "b498eddd-ca46-4779-90ed-8b69d43ac540",
   "metadata": {},
   "outputs": [],
   "source": [
    "grade_count = grade.countByValue()"
   ]
  },
  {
   "cell_type": "code",
   "execution_count": 31,
   "id": "da4b89aa-408c-4be1-bf30-7a06654c40b4",
   "metadata": {},
   "outputs": [
    {
     "data": {
      "text/plain": [
       "defaultdict(int, {'70': 1, '80': 1, '100': 1, '90': 2})"
      ]
     },
     "execution_count": 31,
     "metadata": {},
     "output_type": "execute_result"
    }
   ],
   "source": [
    "grade_count"
   ]
  },
  {
   "cell_type": "code",
   "execution_count": 38,
   "id": "aac2132a-1d43-495c-a9a0-9c8c9211c279",
   "metadata": {},
   "outputs": [
    {
     "data": {
      "text/plain": [
       "dict_items([('70', 1), ('80', 1), ('100', 1), ('90', 2)])"
      ]
     },
     "execution_count": 38,
     "metadata": {},
     "output_type": "execute_result"
    }
   ],
   "source": [
    "grade_count.items()"
   ]
  },
  {
   "cell_type": "code",
   "execution_count": null,
   "id": "fd555efc-64ea-4da7-aee4-35900f50b871",
   "metadata": {},
   "outputs": [],
   "source": [
    "for grade, count in sorted(grade_count.items(), key=lambda item: item[1], reverse=True) :\n",
    "    print(f\"{grade}:{count}\")"
   ]
  },
  {
   "cell_type": "code",
   "execution_count": 42,
   "id": "5cc6e02c-1b81-48bc-8f6f-cde398549cac",
   "metadata": {},
   "outputs": [
    {
     "name": "stdout",
     "output_type": "stream",
     "text": [
      "90:2\n",
      "70:1\n",
      "80:1\n",
      "100:1\n"
     ]
    }
   ],
   "source": [
    "for grade, count in sorted(grade_count.items(),key=lambda item: item[1], reverse=True):\n",
    "    print(f\"{grade}:{count}\")\n",
    "    "
   ]
  },
  {
   "cell_type": "code",
   "execution_count": null,
   "id": "a7700aa6-2c3b-4b17-95b6-f4bf547a199d",
   "metadata": {},
   "outputs": [],
   "source": [
    "# lc4"
   ]
  },
  {
   "cell_type": "code",
   "execution_count": 1,
   "id": "dca3f370-0a32-4721-881a-c08d6a928799",
   "metadata": {},
   "outputs": [],
   "source": [
    "import pyspark"
   ]
  },
  {
   "cell_type": "code",
   "execution_count": 2,
   "id": "46291ba0-3e81-4e8d-952e-229915c3dc20",
   "metadata": {},
   "outputs": [],
   "source": [
    "sc = pyspark.SparkContext.getOrCreate()"
   ]
  },
  {
   "cell_type": "code",
   "execution_count": 5,
   "id": "8ae5487e-65b7-4d9b-91b1-2c4c63a47fbf",
   "metadata": {},
   "outputs": [],
   "source": [
    "from operator import add"
   ]
  },
  {
   "cell_type": "code",
   "execution_count": 6,
   "id": "b79ec1a4-6dc4-44e0-b45c-214df9b06b25",
   "metadata": {},
   "outputs": [],
   "source": [
    "rdd = sc.parallelize([(\"a\",1), (\"b\",1), (\"a\",1)])"
   ]
  },
  {
   "cell_type": "code",
   "execution_count": 7,
   "id": "4fe33586-9be2-446d-9c2a-565fd67be830",
   "metadata": {},
   "outputs": [
    {
     "data": {
      "text/plain": [
       "[('a', 2), ('b', 1)]"
      ]
     },
     "execution_count": 7,
     "metadata": {},
     "output_type": "execute_result"
    }
   ],
   "source": [
    "sorted(rdd.reduceByKey(add).collect())"
   ]
  },
  {
   "cell_type": "code",
   "execution_count": 8,
   "id": "ce55d786-4eb1-41b3-ba7a-3db8dce9d6c7",
   "metadata": {},
   "outputs": [
    {
     "data": {
      "text/plain": [
       "[('a', 2), ('b', 1)]"
      ]
     },
     "execution_count": 8,
     "metadata": {},
     "output_type": "execute_result"
    }
   ],
   "source": [
    "rdd = sc.parallelize([(\"a\",1), (\"b\",1), (\"a\",1)])\n",
    "sorted(rdd.groupByKey().mapValues(len).collect())"
   ]
  },
  {
   "cell_type": "code",
   "execution_count": 10,
   "id": "a2dfe4f4-97e5-4c82-a3f9-41e6921030ed",
   "metadata": {},
   "outputs": [
    {
     "ename": "AttributeError",
     "evalue": "'function' object has no attribute 'collect'",
     "output_type": "error",
     "traceback": [
      "\u001b[0;31m---------------------------------------------------------------------------\u001b[0m",
      "\u001b[0;31mAttributeError\u001b[0m                            Traceback (most recent call last)",
      "Cell \u001b[0;32mIn[10], line 2\u001b[0m\n\u001b[1;32m      1\u001b[0m tmp \u001b[38;5;241m=\u001b[39m [(\u001b[38;5;124m'\u001b[39m\u001b[38;5;124ma\u001b[39m\u001b[38;5;124m'\u001b[39m,\u001b[38;5;241m1\u001b[39m), (\u001b[38;5;124m'\u001b[39m\u001b[38;5;124mb\u001b[39m\u001b[38;5;124m'\u001b[39m,\u001b[38;5;241m2\u001b[39m), (\u001b[38;5;124m'\u001b[39m\u001b[38;5;124m1\u001b[39m\u001b[38;5;124m'\u001b[39m,\u001b[38;5;241m3\u001b[39m), (\u001b[38;5;124m'\u001b[39m\u001b[38;5;124md\u001b[39m\u001b[38;5;124m'\u001b[39m,\u001b[38;5;241m4\u001b[39m), (\u001b[38;5;124m'\u001b[39m\u001b[38;5;124m2\u001b[39m\u001b[38;5;124m'\u001b[39m,\u001b[38;5;241m5\u001b[39m)]\n\u001b[0;32m----> 2\u001b[0m \u001b[38;5;28msorted\u001b[39m(\u001b[43msc\u001b[49m\u001b[38;5;241;43m.\u001b[39;49m\u001b[43mparallelize\u001b[49m\u001b[43m(\u001b[49m\u001b[43mtmp\u001b[49m\u001b[43m)\u001b[49m\u001b[38;5;241;43m.\u001b[39;49m\u001b[43msortByKey\u001b[49m\u001b[43m(\u001b[49m\u001b[43m)\u001b[49m\u001b[38;5;241;43m.\u001b[39;49m\u001b[43mfirst\u001b[49m\u001b[38;5;241;43m.\u001b[39;49m\u001b[43mcollect\u001b[49m())\n",
      "\u001b[0;31mAttributeError\u001b[0m: 'function' object has no attribute 'collect'"
     ]
    }
   ],
   "source": [
    "tmp = [('a',1), ('b',2), ('1',3), ('d',4), ('2',5)]\n",
    "sc.parallelize(tmp).sortByKey().first"
   ]
  },
  {
   "cell_type": "code",
   "execution_count": null,
   "id": "ef150af7-27df-4624-815b-2cae1f2e2c68",
   "metadata": {},
   "outputs": [],
   "source": []
  },
  {
   "cell_type": "code",
   "execution_count": 1,
   "id": "deda1f35-017e-4754-83c2-1f4912016919",
   "metadata": {},
   "outputs": [],
   "source": [
    "import pyspark"
   ]
  },
  {
   "cell_type": "code",
   "execution_count": 2,
   "id": "3493b2c3-7c5d-4bde-b485-3845d9b32522",
   "metadata": {},
   "outputs": [],
   "source": [
    "sc = pyspark.SparkContext.getOrCreate()\n",
    "test_file = \"file:///home/jovyan/work/sample/house_price.csv\""
   ]
  },
  {
   "cell_type": "code",
   "execution_count": 3,
   "id": "540bf574-d658-4b83-bebf-4f6bbf74e804",
   "metadata": {},
   "outputs": [],
   "source": [
    "def parse_line(line: str):\n",
    "    city, price, count = line.split(',')\n",
    "    return (int(price), int(count))"
   ]
  },
  {
   "cell_type": "code",
   "execution_count": 4,
   "id": "5978bda7-e9e5-4fb3-b651-c17b2ddc72eb",
   "metadata": {},
   "outputs": [],
   "source": [
    "lines = sc.textFile(test_file)"
   ]
  },
  {
   "cell_type": "code",
   "execution_count": 5,
   "id": "7d760fd2-8451-43bb-a014-b45ae7f4f1bd",
   "metadata": {},
   "outputs": [],
   "source": [
    "price_count = lines.map(parse_line)"
   ]
  },
  {
   "cell_type": "code",
   "execution_count": 9,
   "id": "4d62f2c4-9cff-4c5e-a9b7-b22536bdd7da",
   "metadata": {},
   "outputs": [],
   "source": [
    "sum_of_count = price_count.mapValues(lambda count: (count, 1))\\\n",
    "                .reduceByKey(lambda a, b: (int(a[0]) + int(b[0]), int(a[1]) + int(b[1])))"
   ]
  },
  {
   "cell_type": "code",
   "execution_count": 7,
   "id": "4269f434-236e-4f14-8e66-701d766b64e0",
   "metadata": {},
   "outputs": [
    {
     "name": "stdout",
     "output_type": "stream",
     "text": [
      "[(10000, 3), (10000, 5), (40000, 7), (5000, 7), (4000, 2), (9000, 4), (5000, 7), (4000, 2), (8000, 9)]\n"
     ]
    }
   ],
   "source": [
    "print(price_count.collect())"
   ]
  },
  {
   "cell_type": "code",
   "execution_count": 10,
   "id": "157a076f-5ef7-47d8-ab4a-9a1c381848d3",
   "metadata": {},
   "outputs": [
    {
     "name": "stdout",
     "output_type": "stream",
     "text": [
      "[(10000, (8, 2)), (40000, (7, 1)), (5000, (14, 2)), (4000, (4, 2)), (9000, (4, 1)), (8000, (9, 1))]\n"
     ]
    }
   ],
   "source": [
    "print(sum_of_count.collect())"
   ]
  },
  {
   "cell_type": "code",
   "execution_count": null,
   "id": "890fc2b8-622f-4b5a-97af-e707b4affb3c",
   "metadata": {},
   "outputs": [],
   "source": []
  },
  {
   "cell_type": "code",
   "execution_count": 4,
   "id": "d6934db9-d2d5-408f-b53f-9a3e09f00d37",
   "metadata": {},
   "outputs": [],
   "source": [
    "import pyspark"
   ]
  },
  {
   "cell_type": "code",
   "execution_count": 5,
   "id": "31983b6b-6640-4295-b495-3af4435a0f24",
   "metadata": {},
   "outputs": [],
   "source": [
    "sc = pyspark.SparkContext.getOrCreate()\n",
    "nums = sc.parallelize([1,2,3,4])\n",
    "squared = nums.map(lambda x: x*x).collect()\n"
   ]
  },
  {
   "cell_type": "code",
   "execution_count": 7,
   "id": "6792387f-533e-4b91-9ef7-c8006a3a6287",
   "metadata": {},
   "outputs": [
    {
     "data": {
      "text/plain": [
       "[1, 4, 9, 16]"
      ]
     },
     "execution_count": 7,
     "metadata": {},
     "output_type": "execute_result"
    }
   ],
   "source": [
    "squared"
   ]
  },
  {
   "cell_type": "code",
   "execution_count": 9,
   "id": "c8494af3-7f52-45ee-8a27-09c98c80950a",
   "metadata": {},
   "outputs": [
    {
     "name": "stdout",
     "output_type": "stream",
     "text": [
      "1 \n",
      "4 \n",
      "9 \n",
      "16 \n"
     ]
    }
   ],
   "source": [
    "for num in squared:\n",
    "    print (\"%i \" %(num))"
   ]
  },
  {
   "cell_type": "code",
   "execution_count": 10,
   "id": "2356b2ee-8721-4966-800a-019ddb470014",
   "metadata": {},
   "outputs": [
    {
     "data": {
      "text/plain": [
       "'hello'"
      ]
     },
     "execution_count": 10,
     "metadata": {},
     "output_type": "execute_result"
    }
   ],
   "source": [
    "lines = sc.parallelize([\"hello world\", \"hi\"])\n",
    "words = lines.flatMap(lambda line: line.split(\" \"))\n",
    "words.first()"
   ]
  },
  {
   "cell_type": "code",
   "execution_count": null,
   "id": "5f8eaa7d-2a40-4c39-a579-c184c98504d0",
   "metadata": {},
   "outputs": [],
   "source": []
  }
 ],
 "metadata": {
  "kernelspec": {
   "display_name": "Python 3 (ipykernel)",
   "language": "python",
   "name": "python3"
  },
  "language_info": {
   "codemirror_mode": {
    "name": "ipython",
    "version": 3
   },
   "file_extension": ".py",
   "mimetype": "text/x-python",
   "name": "python",
   "nbconvert_exporter": "python",
   "pygments_lexer": "ipython3",
   "version": "3.11.4"
  }
 },
 "nbformat": 4,
 "nbformat_minor": 5
}
