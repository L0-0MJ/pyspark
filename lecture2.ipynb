{
 "cells": [
  {
   "cell_type": "code",
   "execution_count": 5,
   "id": "da2d37f6-b8f9-4c36-8ae7-388af095ba06",
   "metadata": {},
   "outputs": [
    {
     "name": "stdout",
     "output_type": "stream",
     "text": [
      "[('hello', 6), ('world', 6)]\n"
     ]
    }
   ],
   "source": [
    "import pyspark\n",
    "\n",
    "test_file = \"file:///home/jovyan/work/sample/word1.txt\"\n",
    "# sc = pyspark.SparkContext('local[*]')\n",
    "sc = pyspark.SparkContext.getOrCreate()\n",
    "# 기존 sparkcontext 있으면 getOrCreate로 재사용할 수 있음\n",
    "\n",
    "text_file = sc.textFile(test_file) #RDD로 만듦\n",
    "\n",
    "#RDD의 여러가지 action을 사용\n",
    "counts = text_file.flatMap(lambda line: line.split(\" \")) \\\n",
    "             .map(lambda word: (word, 1)) \\\n",
    "             .reduceByKey(lambda a, b: a + b)\n",
    "# ln1: hello,world\n",
    "# (hello, 1), (world, 1), (hello, 1) => [(hello, 1), (hello, 1)], [(world, 1)]\n",
    "print(counts.collect())"
   ]
  },
  {
   "cell_type": "code",
   "execution_count": 7,
   "id": "90699bdd-6d87-4c0e-861f-071812024974",
   "metadata": {},
   "outputs": [
    {
     "name": "stdout",
     "output_type": "stream",
     "text": [
      "file:///home/jovyan/work/sample/word1.txt MapPartitionsRDD[8] at textFile at NativeMethodAccessorImpl.java:0\n"
     ]
    }
   ],
   "source": [
    "print(text_file)"
   ]
  },
  {
   "cell_type": "code",
   "execution_count": null,
   "id": "a6f4893a-7f79-408f-bd0c-dbf69349a77e",
   "metadata": {},
   "outputs": [],
   "source": [
    "for datum in counts.collect():\n",
    "    print(datum)"
   ]
  },
  {
   "cell_type": "code",
   "execution_count": 8,
   "id": "cb2d95c0-9079-450a-86aa-c98b2300c3e4",
   "metadata": {},
   "outputs": [
    {
     "name": "stdout",
     "output_type": "stream",
     "text": [
      "[('hello', 1), ('world', 1), ('hello', 1), ('world', 1), ('hello', 1), ('world', 1), ('hello', 1), ('world', 1), ('hello', 1), ('world', 1), ('hello', 1), ('world', 1)]\n"
     ]
    }
   ],
   "source": [
    "counts = text_file.flatMap(lambda line: line.split(\" \"))\n",
    "pair = counts.map(lambda word: (word, 1))\n",
    "print(pair.collect())"
   ]
  },
  {
   "cell_type": "code",
   "execution_count": null,
   "id": "d212c33d-aa3c-45ca-8bfb-c7730c2ef5a5",
   "metadata": {},
   "outputs": [],
   "source": []
  }
 ],
 "metadata": {
  "kernelspec": {
   "display_name": "Python 3 (ipykernel)",
   "language": "python",
   "name": "python3"
  },
  "language_info": {
   "codemirror_mode": {
    "name": "ipython",
    "version": 3
   },
   "file_extension": ".py",
   "mimetype": "text/x-python",
   "name": "python",
   "nbconvert_exporter": "python",
   "pygments_lexer": "ipython3",
   "version": "3.11.4"
  },
  "vscode": {
   "interpreter": {
    "hash": "aee8b7b246df8f9039afb4144a1f6fd8d2ca17a180786b69acc140d282b71a49"
   }
  }
 },
 "nbformat": 4,
 "nbformat_minor": 5
}
