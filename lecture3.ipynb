{
 "cells": [
  {
   "cell_type": "code",
   "execution_count": 1,
   "id": "ab0c9fbf-e1d3-45e5-8439-f883a2985fe2",
   "metadata": {},
   "outputs": [
    {
     "name": "stdout",
     "output_type": "stream",
     "text": [
      "90: 2\n",
      "70: 1\n",
      "80: 1\n",
      "100: 1\n"
     ]
    }
   ],
   "source": [
    "import collections\n",
    "import pyspark\n",
    "\n",
    "test_file = \"file:///home/jovyan/work/sample/grade.txt\"\n",
    "# sc = pyspark.SparkContext('local[*]')\n",
    "sc = pyspark.SparkContext.getOrCreate()\n",
    "\n",
    "text_file = sc.textFile(test_file)\n",
    "\n",
    "grade = text_file.map(lambda line: line.split(\" \")[1])\n",
    "\n",
    "# Return the count of each unique value in this RDD as a dictionary of (value, count) pairs.\n",
    "grade_count = grade.countByValue()\n",
    "\n",
    "for grade, count in sorted(grade_count.items(), key=lambda item: item[1], reverse=True):\n",
    "    print(f\"{grade}: {count}\")"
   ]
  },
  {
   "cell_type": "code",
   "execution_count": 3,
   "id": "594a252b-ff6d-4d1a-9c58-a81b0a3b7017",
   "metadata": {},
   "outputs": [
    {
     "name": "stdout",
     "output_type": "stream",
     "text": [
      "file:///home/jovyan/work/sample/grade.txt MapPartitionsRDD[6] at textFile at NativeMethodAccessorImpl.java:0\n"
     ]
    }
   ],
   "source": [
    "text_file = sc.textFile(test_file)\n",
    "print(text_file)"
   ]
  },
  {
   "cell_type": "code",
   "execution_count": 4,
   "id": "a75be8fa-b29a-4947-b030-8959dcdd3ebd",
   "metadata": {},
   "outputs": [
    {
     "data": {
      "text/plain": [
       "'100'"
      ]
     },
     "execution_count": 4,
     "metadata": {},
     "output_type": "execute_result"
    }
   ],
   "source": [
    "grade"
   ]
  },
  {
   "cell_type": "code",
   "execution_count": 5,
   "id": "9d586b48-db8f-418f-aaff-f2438cdd510b",
   "metadata": {},
   "outputs": [
    {
     "data": {
      "text/plain": [
       "defaultdict(int, {'70': 1, '80': 1, '100': 1, '90': 2})"
      ]
     },
     "execution_count": 5,
     "metadata": {},
     "output_type": "execute_result"
    }
   ],
   "source": [
    "grade_count"
   ]
  },
  {
   "cell_type": "code",
   "execution_count": 6,
   "id": "2694d0b4-c791-4c02-aa99-8375ad7f4e63",
   "metadata": {},
   "outputs": [
    {
     "data": {
      "text/plain": [
       "dict_items([('70', 1), ('80', 1), ('100', 1), ('90', 2)])"
      ]
     },
     "execution_count": 6,
     "metadata": {},
     "output_type": "execute_result"
    }
   ],
   "source": [
    "grade_count.items()"
   ]
  },
  {
   "cell_type": "code",
   "execution_count": 7,
   "id": "126b3eb0-a0f3-4384-9c42-05e4119a2c73",
   "metadata": {},
   "outputs": [
    {
     "ename": "NameError",
     "evalue": "name 'item' is not defined",
     "output_type": "error",
     "traceback": [
      "\u001b[0;31m---------------------------------------------------------------------------\u001b[0m",
      "\u001b[0;31mNameError\u001b[0m                                 Traceback (most recent call last)",
      "Cell \u001b[0;32mIn[7], line 1\u001b[0m\n\u001b[0;32m----> 1\u001b[0m \u001b[43mitem\u001b[49m\n",
      "\u001b[0;31mNameError\u001b[0m: name 'item' is not defined"
     ]
    }
   ],
   "source": [
    "item"
   ]
  },
  {
   "cell_type": "code",
   "execution_count": 8,
   "id": "4083f184-5f7c-4ded-b7cf-a46e399d274f",
   "metadata": {},
   "outputs": [],
   "source": [
    "key=lambda item: item[1]"
   ]
  },
  {
   "cell_type": "code",
   "execution_count": 9,
   "id": "eac60d48-4234-4596-9bac-9389d5474e11",
   "metadata": {},
   "outputs": [
    {
     "data": {
      "text/plain": [
       "<function __main__.<lambda>(item)>"
      ]
     },
     "execution_count": 9,
     "metadata": {},
     "output_type": "execute_result"
    }
   ],
   "source": [
    "key"
   ]
  },
  {
   "cell_type": "code",
   "execution_count": null,
   "id": "422d3bb8-aae8-44de-a57d-22dfcc8882d2",
   "metadata": {},
   "outputs": [],
   "source": []
  }
 ],
 "metadata": {
  "kernelspec": {
   "display_name": "Python 3 (ipykernel)",
   "language": "python",
   "name": "python3"
  },
  "language_info": {
   "codemirror_mode": {
    "name": "ipython",
    "version": 3
   },
   "file_extension": ".py",
   "mimetype": "text/x-python",
   "name": "python",
   "nbconvert_exporter": "python",
   "pygments_lexer": "ipython3",
   "version": "3.11.4"
  },
  "vscode": {
   "interpreter": {
    "hash": "aee8b7b246df8f9039afb4144a1f6fd8d2ca17a180786b69acc140d282b71a49"
   }
  }
 },
 "nbformat": 4,
 "nbformat_minor": 5
}
