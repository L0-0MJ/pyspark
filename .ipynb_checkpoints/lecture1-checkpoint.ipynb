{
 "cells": [
  {
   "cell_type": "code",
   "execution_count": null,
   "id": "71867966-8d6b-447e-848a-8235532bae7b",
   "metadata": {},
   "outputs": [],
   "source": [
    "import pyspark\n",
    "\n",
    "# class pyspark.SparkContext (\n",
    "#    master = None,\n",
    "#    appName = None, \n",
    "#    sparkHome = None, \n",
    "#    pyFiles = None, \n",
    "#    environment = None, \n",
    "#    batchSize = 0, \n",
    "#    serializer = PickleSerializer(), \n",
    "#    conf = None, \n",
    "#    gateway = None, \n",
    "#    jsc = None, \n",
    "#    profiler_cls = <class 'pyspark.profiler.BasicProfiler'>\n",
    "# )\n",
    "\n",
    "# Master − It is the URL of the cluster it connects to.\n",
    "# appName − Name of your job.\n",
    "# sparkHome − Spark installation directory.\n",
    "# pyFiles − The .zip or .py files to send to the cluster and add to the PYTHONPATH.\n",
    "# Environment − Worker nodes environment variables.\n",
    "# batchSize − The number of Python objects represented as a single Java object. Set 1 to disable batching, 0 to automatically choose the batch size based on object sizes, or -1 to use an unlimited batch size.\n",
    "# Serializer − RDD serializer.\n",
    "# Conf − An object of L{SparkConf} to set all the Spark properties.\n",
    "# Gateway − Use an existing gateway and JVM, otherwise initializing a new JVM.\n",
    "# JSC − The JavaSparkContext instance.\n",
    "# profiler_cls − A class of custom Profiler used to do profiling (the default is pyspark.profiler.BasicProfiler).\n",
    "\n",
    "# SparkContext uses Py4J to launch a JVM and creates a JavaSparkContext. \n",
    "# By default, PySpark has SparkContext available as ‘sc’, so creating a new SparkContext won't work.\n",
    "\n",
    "\n",
    "sc = pyspark.SparkContext('local[*]') \n",
    "###SparkContext 라이브러리 첫번째 변수 => master를 어디다 연결할건지 입력\n",
    "###보통 master, appName 사용\n",
    "\n",
    "# RDD : immutable distributed collection of objects\n",
    "rdd = sc.parallelize(range(1000))\n",
    "### parallelize 기존 데이터를 RDD로 바꾸는 작업 \n",
    "### 한번 생성되면 바꿀 수 없음\n",
    "### 0~999까지 range 만듦\n",
    "\n",
    "rdd.takeSample(False, 5)\n",
    "### 샘플 5개 받아와"
   ]
  }
 ],
 "metadata": {
  "kernelspec": {
   "display_name": "Python 3 (ipykernel)",
   "language": "python",
   "name": "python3"
  },
  "language_info": {
   "codemirror_mode": {
    "name": "ipython",
    "version": 3
   },
   "file_extension": ".py",
   "mimetype": "text/x-python",
   "name": "python",
   "nbconvert_exporter": "python",
   "pygments_lexer": "ipython3",
   "version": "3.11.4"
  }
 },
 "nbformat": 4,
 "nbformat_minor": 5
}
